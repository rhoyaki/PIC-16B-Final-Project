{
 "cells": [
  {
   "cell_type": "code",
   "execution_count": 2,
   "id": "9dc56922-727a-4f82-801b-c09de7249dce",
   "metadata": {
    "tags": []
   },
   "outputs": [],
   "source": [
    "from bs4 import BeautifulSoup\n",
    "import requests\n",
    "url = \"https://www.boxofficemojo.com/chart/top_lifetime_gross/?area=XWW\"\n",
    "\n",
    "result = requests.get(url)\n",
    "doc = BeautifulSoup(result.text, \"html.parser\")"
   ]
  },
  {
   "cell_type": "code",
   "execution_count": 26,
   "id": "0767085a-b91c-4fbe-9453-8098c6c2468f",
   "metadata": {
    "tags": []
   },
   "outputs": [],
   "source": [
    "movie_table = doc.find_all(\"table\")"
   ]
  },
  {
   "cell_type": "code",
   "execution_count": 30,
   "id": "f20e78f8-da6d-4d07-8dcd-9d2b23a556bc",
   "metadata": {
    "tags": []
   },
   "outputs": [],
   "source": [
    "import pandas as pd\n",
    "import numpy as np"
   ]
  },
  {
   "cell_type": "code",
   "execution_count": 80,
   "id": "43f710da-5be6-43fb-b26e-475251c88791",
   "metadata": {
    "tags": []
   },
   "outputs": [],
   "source": [
    "movie_data = []\n",
    "for row in movie_table[0].find_all(\"tr\")[1:]:  # Skip the header row\n",
    "    cells = row.find_all(\"td\")\n",
    "    current_title = cells[1].text\n",
    "    current_gross = cells[2].text[1:]\n",
    "    current_year = cells[3].text\n",
    "    \n",
    "    \n",
    "    movie_data.append({\"Title\" : current_title,\n",
    "                       \"Lifetime Gross\" : current_gross,\n",
    "                       \"Year\" : current_year,\n",
    "                      }\n",
    "                     )\n",
    "                       \n",
    "                       \n",
    "\n",
    "# Create a Pandas DataFrame\n",
    "movie_data\n",
    "df = pd.DataFrame(movie_data)"
   ]
  },
  {
   "cell_type": "code",
   "execution_count": 82,
   "id": "ce612c28-8878-4769-8c14-33989c701ff1",
   "metadata": {
    "tags": []
   },
   "outputs": [
    {
     "data": {
      "text/html": [
       "<div>\n",
       "<style scoped>\n",
       "    .dataframe tbody tr th:only-of-type {\n",
       "        vertical-align: middle;\n",
       "    }\n",
       "\n",
       "    .dataframe tbody tr th {\n",
       "        vertical-align: top;\n",
       "    }\n",
       "\n",
       "    .dataframe thead th {\n",
       "        text-align: right;\n",
       "    }\n",
       "</style>\n",
       "<table border=\"1\" class=\"dataframe\">\n",
       "  <thead>\n",
       "    <tr style=\"text-align: right;\">\n",
       "      <th></th>\n",
       "      <th>Title</th>\n",
       "      <th>Lifetime Gross</th>\n",
       "      <th>Year</th>\n",
       "    </tr>\n",
       "  </thead>\n",
       "  <tbody>\n",
       "    <tr>\n",
       "      <th>0</th>\n",
       "      <td>Avatar</td>\n",
       "      <td>2,923,706,026</td>\n",
       "      <td>2009</td>\n",
       "    </tr>\n",
       "    <tr>\n",
       "      <th>1</th>\n",
       "      <td>Avengers: Endgame</td>\n",
       "      <td>2,799,439,100</td>\n",
       "      <td>2019</td>\n",
       "    </tr>\n",
       "    <tr>\n",
       "      <th>2</th>\n",
       "      <td>Avatar: The Way of Water</td>\n",
       "      <td>2,320,250,281</td>\n",
       "      <td>2022</td>\n",
       "    </tr>\n",
       "    <tr>\n",
       "      <th>3</th>\n",
       "      <td>Titanic</td>\n",
       "      <td>2,264,750,694</td>\n",
       "      <td>1997</td>\n",
       "    </tr>\n",
       "    <tr>\n",
       "      <th>4</th>\n",
       "      <td>Star Wars: Episode VII - The Force Awakens</td>\n",
       "      <td>2,071,310,218</td>\n",
       "      <td>2015</td>\n",
       "    </tr>\n",
       "    <tr>\n",
       "      <th>...</th>\n",
       "      <td>...</td>\n",
       "      <td>...</td>\n",
       "      <td>...</td>\n",
       "    </tr>\n",
       "    <tr>\n",
       "      <th>195</th>\n",
       "      <td>Night at the Museum</td>\n",
       "      <td>574,482,479</td>\n",
       "      <td>2006</td>\n",
       "    </tr>\n",
       "    <tr>\n",
       "      <th>196</th>\n",
       "      <td>Fifty Shades of Grey</td>\n",
       "      <td>569,651,467</td>\n",
       "      <td>2015</td>\n",
       "    </tr>\n",
       "    <tr>\n",
       "      <th>197</th>\n",
       "      <td>The Little Mermaid</td>\n",
       "      <td>569,626,289</td>\n",
       "      <td>2023</td>\n",
       "    </tr>\n",
       "    <tr>\n",
       "      <th>198</th>\n",
       "      <td>Kong: Skull Island</td>\n",
       "      <td>568,652,812</td>\n",
       "      <td>2017</td>\n",
       "    </tr>\n",
       "    <tr>\n",
       "      <th>199</th>\n",
       "      <td>Mission: Impossible - Dead Reckoning Part One</td>\n",
       "      <td>567,535,383</td>\n",
       "      <td>2023</td>\n",
       "    </tr>\n",
       "  </tbody>\n",
       "</table>\n",
       "<p>200 rows × 3 columns</p>\n",
       "</div>"
      ],
      "text/plain": [
       "                                             Title Lifetime Gross  Year\n",
       "0                                           Avatar  2,923,706,026  2009\n",
       "1                                Avengers: Endgame  2,799,439,100  2019\n",
       "2                         Avatar: The Way of Water  2,320,250,281  2022\n",
       "3                                          Titanic  2,264,750,694  1997\n",
       "4       Star Wars: Episode VII - The Force Awakens  2,071,310,218  2015\n",
       "..                                             ...            ...   ...\n",
       "195                            Night at the Museum    574,482,479  2006\n",
       "196                           Fifty Shades of Grey    569,651,467  2015\n",
       "197                             The Little Mermaid    569,626,289  2023\n",
       "198                             Kong: Skull Island    568,652,812  2017\n",
       "199  Mission: Impossible - Dead Reckoning Part One    567,535,383  2023\n",
       "\n",
       "[200 rows x 3 columns]"
      ]
     },
     "execution_count": 82,
     "metadata": {},
     "output_type": "execute_result"
    }
   ],
   "source": [
    "df\n"
   ]
  },
  {
   "cell_type": "code",
   "execution_count": null,
   "id": "72d941ca-6be6-4d1f-a1c7-ee347003ac04",
   "metadata": {},
   "outputs": [],
   "source": []
  }
 ],
 "metadata": {
  "kernelspec": {
   "display_name": "Python 3 (ipykernel)",
   "language": "python",
   "name": "python3"
  },
  "language_info": {
   "codemirror_mode": {
    "name": "ipython",
    "version": 3
   },
   "file_extension": ".py",
   "mimetype": "text/x-python",
   "name": "python",
   "nbconvert_exporter": "python",
   "pygments_lexer": "ipython3",
   "version": "3.11.5"
  }
 },
 "nbformat": 4,
 "nbformat_minor": 5
}
